{
  "nbformat": 4,
  "nbformat_minor": 0,
  "metadata": {
    "colab": {
      "provenance": [],
      "authorship_tag": "ABX9TyMUKXM96cbW2s76K+CSfJmZ",
      "include_colab_link": true
    },
    "kernelspec": {
      "name": "python3",
      "display_name": "Python 3"
    },
    "language_info": {
      "name": "python"
    }
  },
  "cells": [
    {
      "cell_type": "markdown",
      "metadata": {
        "id": "view-in-github",
        "colab_type": "text"
      },
      "source": [
        "<a href=\"https://colab.research.google.com/github/rodrigo-zardo/pesca/blob/main/PescaMedida.ipynb\" target=\"_parent\"><img src=\"https://colab.research.google.com/assets/colab-badge.svg\" alt=\"Open In Colab\"/></a>"
      ]
    },
    {
      "cell_type": "code",
      "execution_count": 17,
      "metadata": {
        "colab": {
          "base_uri": "https://localhost:8080/",
          "height": 836
        },
        "id": "D9YITDbSHNMo",
        "outputId": "69e052a3-7c94-4ae7-cf18-ac68aacd6016"
      },
      "outputs": [
        {
          "output_type": "stream",
          "name": "stdout",
          "text": [
            "Requirement already satisfied: google-generativeai in /usr/local/lib/python3.10/dist-packages (0.5.2)\n",
            "Requirement already satisfied: google-ai-generativelanguage==0.6.2 in /usr/local/lib/python3.10/dist-packages (from google-generativeai) (0.6.2)\n",
            "Requirement already satisfied: google-api-core in /usr/local/lib/python3.10/dist-packages (from google-generativeai) (2.11.1)\n",
            "Requirement already satisfied: google-api-python-client in /usr/local/lib/python3.10/dist-packages (from google-generativeai) (2.84.0)\n",
            "Requirement already satisfied: google-auth>=2.15.0 in /usr/local/lib/python3.10/dist-packages (from google-generativeai) (2.27.0)\n",
            "Requirement already satisfied: protobuf in /usr/local/lib/python3.10/dist-packages (from google-generativeai) (3.20.3)\n",
            "Requirement already satisfied: pydantic in /usr/local/lib/python3.10/dist-packages (from google-generativeai) (2.7.1)\n",
            "Requirement already satisfied: tqdm in /usr/local/lib/python3.10/dist-packages (from google-generativeai) (4.66.4)\n",
            "Requirement already satisfied: typing-extensions in /usr/local/lib/python3.10/dist-packages (from google-generativeai) (4.11.0)\n",
            "Requirement already satisfied: proto-plus<2.0.0dev,>=1.22.3 in /usr/local/lib/python3.10/dist-packages (from google-ai-generativelanguage==0.6.2->google-generativeai) (1.23.0)\n",
            "Requirement already satisfied: cachetools<6.0,>=2.0.0 in /usr/local/lib/python3.10/dist-packages (from google-auth>=2.15.0->google-generativeai) (5.3.3)\n",
            "Requirement already satisfied: pyasn1-modules>=0.2.1 in /usr/local/lib/python3.10/dist-packages (from google-auth>=2.15.0->google-generativeai) (0.4.0)\n",
            "Requirement already satisfied: rsa<5,>=3.1.4 in /usr/local/lib/python3.10/dist-packages (from google-auth>=2.15.0->google-generativeai) (4.9)\n",
            "Requirement already satisfied: googleapis-common-protos<2.0.dev0,>=1.56.2 in /usr/local/lib/python3.10/dist-packages (from google-api-core->google-generativeai) (1.63.0)\n",
            "Requirement already satisfied: requests<3.0.0.dev0,>=2.18.0 in /usr/local/lib/python3.10/dist-packages (from google-api-core->google-generativeai) (2.31.0)\n",
            "Requirement already satisfied: httplib2<1dev,>=0.15.0 in /usr/local/lib/python3.10/dist-packages (from google-api-python-client->google-generativeai) (0.22.0)\n",
            "Requirement already satisfied: google-auth-httplib2>=0.1.0 in /usr/local/lib/python3.10/dist-packages (from google-api-python-client->google-generativeai) (0.1.1)\n",
            "Requirement already satisfied: uritemplate<5,>=3.0.1 in /usr/local/lib/python3.10/dist-packages (from google-api-python-client->google-generativeai) (4.1.1)\n",
            "Requirement already satisfied: annotated-types>=0.4.0 in /usr/local/lib/python3.10/dist-packages (from pydantic->google-generativeai) (0.6.0)\n",
            "Requirement already satisfied: pydantic-core==2.18.2 in /usr/local/lib/python3.10/dist-packages (from pydantic->google-generativeai) (2.18.2)\n",
            "Requirement already satisfied: grpcio<2.0dev,>=1.33.2 in /usr/local/lib/python3.10/dist-packages (from google-api-core->google-generativeai) (1.63.0)\n",
            "Requirement already satisfied: grpcio-status<2.0.dev0,>=1.33.2 in /usr/local/lib/python3.10/dist-packages (from google-api-core->google-generativeai) (1.48.2)\n",
            "Requirement already satisfied: pyparsing!=3.0.0,!=3.0.1,!=3.0.2,!=3.0.3,<4,>=2.4.2 in /usr/local/lib/python3.10/dist-packages (from httplib2<1dev,>=0.15.0->google-api-python-client->google-generativeai) (3.1.2)\n",
            "Requirement already satisfied: pyasn1<0.7.0,>=0.4.6 in /usr/local/lib/python3.10/dist-packages (from pyasn1-modules>=0.2.1->google-auth>=2.15.0->google-generativeai) (0.6.0)\n",
            "Requirement already satisfied: charset-normalizer<4,>=2 in /usr/local/lib/python3.10/dist-packages (from requests<3.0.0.dev0,>=2.18.0->google-api-core->google-generativeai) (3.3.2)\n",
            "Requirement already satisfied: idna<4,>=2.5 in /usr/local/lib/python3.10/dist-packages (from requests<3.0.0.dev0,>=2.18.0->google-api-core->google-generativeai) (3.7)\n",
            "Requirement already satisfied: urllib3<3,>=1.21.1 in /usr/local/lib/python3.10/dist-packages (from requests<3.0.0.dev0,>=2.18.0->google-api-core->google-generativeai) (2.0.7)\n",
            "Requirement already satisfied: certifi>=2017.4.17 in /usr/local/lib/python3.10/dist-packages (from requests<3.0.0.dev0,>=2.18.0->google-api-core->google-generativeai) (2024.2.2)\n",
            "https://github.com/rodrigo-zardo/pesca/blob/103df9b420e4aaedf1d11541ebe73e1db0976dd5/Regua%2002.jpeg\n"
          ]
        },
        {
          "output_type": "error",
          "ename": "UnidentifiedImageError",
          "evalue": "cannot identify image file <_io.BytesIO object at 0x7e1da158fb00>",
          "traceback": [
            "\u001b[0;31m---------------------------------------------------------------------------\u001b[0m",
            "\u001b[0;31mUnidentifiedImageError\u001b[0m                    Traceback (most recent call last)",
            "\u001b[0;32m<ipython-input-17-0e3195665e43>\u001b[0m in \u001b[0;36m<cell line: 64>\u001b[0;34m()\u001b[0m\n\u001b[1;32m     62\u001b[0m \u001b[0;31m# Fazendo o download da imagem\u001b[0m\u001b[0;34m\u001b[0m\u001b[0;34m\u001b[0m\u001b[0m\n\u001b[1;32m     63\u001b[0m \u001b[0mresponse\u001b[0m \u001b[0;34m=\u001b[0m \u001b[0mrequests\u001b[0m\u001b[0;34m.\u001b[0m\u001b[0mget\u001b[0m\u001b[0;34m(\u001b[0m\u001b[0murl1\u001b[0m\u001b[0;34m)\u001b[0m\u001b[0;34m\u001b[0m\u001b[0;34m\u001b[0m\u001b[0m\n\u001b[0;32m---> 64\u001b[0;31m \u001b[0mimg1\u001b[0m \u001b[0;34m=\u001b[0m \u001b[0mImage\u001b[0m\u001b[0;34m.\u001b[0m\u001b[0mopen\u001b[0m\u001b[0;34m(\u001b[0m\u001b[0mBytesIO\u001b[0m\u001b[0;34m(\u001b[0m\u001b[0mresponse\u001b[0m\u001b[0;34m.\u001b[0m\u001b[0mcontent\u001b[0m\u001b[0;34m)\u001b[0m\u001b[0;34m)\u001b[0m\u001b[0;34m\u001b[0m\u001b[0;34m\u001b[0m\u001b[0m\n\u001b[0m\u001b[1;32m     65\u001b[0m \u001b[0mresponse2\u001b[0m \u001b[0;34m=\u001b[0m \u001b[0mrequests\u001b[0m\u001b[0;34m.\u001b[0m\u001b[0mget\u001b[0m\u001b[0;34m(\u001b[0m\u001b[0murl2\u001b[0m\u001b[0;34m)\u001b[0m\u001b[0;34m\u001b[0m\u001b[0;34m\u001b[0m\u001b[0m\n\u001b[1;32m     66\u001b[0m \u001b[0mimg2\u001b[0m \u001b[0;34m=\u001b[0m \u001b[0mImage\u001b[0m\u001b[0;34m.\u001b[0m\u001b[0mopen\u001b[0m\u001b[0;34m(\u001b[0m\u001b[0mBytesIO\u001b[0m\u001b[0;34m(\u001b[0m\u001b[0mresponse2\u001b[0m\u001b[0;34m.\u001b[0m\u001b[0mcontent\u001b[0m\u001b[0;34m)\u001b[0m\u001b[0;34m)\u001b[0m\u001b[0;34m\u001b[0m\u001b[0;34m\u001b[0m\u001b[0m\n",
            "\u001b[0;32m/usr/local/lib/python3.10/dist-packages/PIL/Image.py\u001b[0m in \u001b[0;36mopen\u001b[0;34m(fp, mode, formats)\u001b[0m\n\u001b[1;32m   3281\u001b[0m         \u001b[0mwarnings\u001b[0m\u001b[0;34m.\u001b[0m\u001b[0mwarn\u001b[0m\u001b[0;34m(\u001b[0m\u001b[0mmessage\u001b[0m\u001b[0;34m)\u001b[0m\u001b[0;34m\u001b[0m\u001b[0;34m\u001b[0m\u001b[0m\n\u001b[1;32m   3282\u001b[0m     \u001b[0mmsg\u001b[0m \u001b[0;34m=\u001b[0m \u001b[0;34m\"cannot identify image file %r\"\u001b[0m \u001b[0;34m%\u001b[0m \u001b[0;34m(\u001b[0m\u001b[0mfilename\u001b[0m \u001b[0;32mif\u001b[0m \u001b[0mfilename\u001b[0m \u001b[0;32melse\u001b[0m \u001b[0mfp\u001b[0m\u001b[0;34m)\u001b[0m\u001b[0;34m\u001b[0m\u001b[0;34m\u001b[0m\u001b[0m\n\u001b[0;32m-> 3283\u001b[0;31m     \u001b[0;32mraise\u001b[0m \u001b[0mUnidentifiedImageError\u001b[0m\u001b[0;34m(\u001b[0m\u001b[0mmsg\u001b[0m\u001b[0;34m)\u001b[0m\u001b[0;34m\u001b[0m\u001b[0;34m\u001b[0m\u001b[0m\n\u001b[0m\u001b[1;32m   3284\u001b[0m \u001b[0;34m\u001b[0m\u001b[0m\n\u001b[1;32m   3285\u001b[0m \u001b[0;34m\u001b[0m\u001b[0m\n",
            "\u001b[0;31mUnidentifiedImageError\u001b[0m: cannot identify image file <_io.BytesIO object at 0x7e1da158fb00>"
          ]
        }
      ],
      "source": [
        "# O código inicia instalando o pacote \"google-generativeai\" via pip:\n",
        "\n",
        "!pip install google-generativeai\n",
        "\n",
        "\n",
        "# Importa as bibliotecas necessárias:\n",
        "\n",
        "import requests\n",
        "from PIL import Image\n",
        "from io import BytesIO\n",
        "from pathlib import Path # Path: Usada para manipular caminhos de arquivos.\n",
        "import hashlib # hashlib: Usada para gerar hashes de arquivos.\n",
        "import google.generativeai as genai # google.generativeai: Usada para interagir com o modelo de IA \"gemini-1.5-pro-latest\".\n",
        "from google.colab import userdata\n",
        "API_KEY = userdata.get(\"SECRET_KEY\")\n",
        "\n",
        "genai.configure(api_key=API_KEY) #Configura a chave de API do Google Cloud Platform (GCP) para autenticação no modelo de IA.\n",
        "\n",
        "# Configurar o modelo e Configura os parâmetros de geração do modelo de IA:\n",
        "generation_config = {\n",
        "  \"temperature\": 1, # Controla a criatividade das respostas. Um valor alto gera respostas mais criativas, mas menos precisas (entre 0 e 1).\n",
        "  \"top_p\": 0.95,    # Controla a probabilidade das respostas. Um valor alto gera respostas mais prováveis, mas menos diversas (entre 0 e 1).\n",
        "  \"top_k\": 0,       # Controla o número de respostas mais prováveis a serem consideradas. Um valor alto gera mais respostas, mas pode levar mais tempo para processar (entre 0 e 100).\n",
        "  \"max_output_tokens\": 8192, # Controla o número máximo de tokens (palavras) em cada resposta (entre 1 e 10240).\n",
        "}\n",
        "# Define configurações de segurança para evitar que o modelo gere conteúdo prejudicial:\n",
        "safety_settings = [\n",
        "  {\n",
        "    \"category\": \"HARM_CATEGORY_HARASSMENT\", # Assedio.\n",
        "    \"threshold\": \"BLOCK_MEDIUM_AND_ABOVE\"   # Todos definidos para bloquear conteúdo de severidade média e acima.\n",
        "  },\n",
        "  {\n",
        "    \"category\": \"HARM_CATEGORY_HATE_SPEECH\", # Discurso de ódio.\n",
        "    \"threshold\": \"BLOCK_MEDIUM_AND_ABOVE\"\n",
        "  },\n",
        "  {\n",
        "    \"category\": \"HARM_CATEGORY_SEXUALLY_EXPLICIT\", # Conteúdo sexualmente explícito.\n",
        "    \"threshold\": \"BLOCK_MEDIUM_AND_ABOVE\"\n",
        "  },\n",
        "  {\n",
        "    \"category\": \"HARM_CATEGORY_DANGEROUS_CONTENT\", # Conteúdo perigoso.\n",
        "    \"threshold\": \"BLOCK_MEDIUM_AND_ABOVE\"\n",
        "  },\n",
        "]\n",
        "\n",
        "# Cria um objeto GenerativeModel que representa o modelo de IA \"gemini-1.5-pro-latest\".\n",
        "# Passa os parâmetros de geração e as configurações de segurança para o construtor do objeto GenerativeModel.\n",
        "\n",
        "model = genai.GenerativeModel(model_name=\"gemini-1.5-pro-latest\",\n",
        "                              generation_config=generation_config,\n",
        "                              safety_settings=safety_settings)\n",
        "\n",
        "# Usando a técnica de Few-shot Chain-of-Thought para melhor o raciocinio e parametrizar um problema da sua vida real e apoiar no resultado esperado.\n",
        "\n",
        "# URL da imagem no GitHub\n",
        "url1 = 'https://github.com/rodrigo-zardo/pesca/blob/103df9b420e4aaedf1d11541ebe73e1db0976dd5/Regua%2002.jpeg'\n",
        "url2 = 'https://github.com/rodrigo-zardo/pesca/blob/103df9b420e4aaedf1d11541ebe73e1db0976dd5/Regua%2002.jpeg'\n",
        "url3 = 'https://github.com/rodrigo-zardo/pesca/blob/103df9b420e4aaedf1d11541ebe73e1db0976dd5/Regua%2002.jpeg'\n",
        "\n",
        "print(url1)\n",
        "\n",
        "# Fazendo o download da imagem\n",
        "response = requests.get(url1)\n",
        "img1 = Image.open(BytesIO(response.content))\n",
        "response2 = requests.get(url2)\n",
        "img2 = Image.open(BytesIO(response2.content))\n",
        "response3 = requests.get(url3)\n",
        "img3 = Image.open(BytesIO(response3.content))\n",
        "\n",
        "img1.show()\n",
        "\n",
        "prompt_parts = [\n",
        "  \"input: \",\n",
        "  genai.upload_file(img1),\n",
        "  \"\\nO tamanho do peixe pode ser analisado observando com atenção para as marcações nas laterais e as linhas verticais da régua que tem as medidas em centímetros enumeradas de 1 em 1 centímetro.\\nA medição do tamanho do Peixe deve estar bem calibrada conforme a marca de 10 em 10  centímetros fixada na lateral da régua de linha vertical em vermelho. Onde o final do rabo do peixe define o tamanho total do peixe conforme a linha vertical.\\nPeixe menor que 20 centímetros não são validos.\\nBoca fechada e rabo espalmado deve ser observado na imagem.\\nO tamanho do peixe tem que ser exato.\",\n",
        "  \"output: Trazer o resultado especifico preenchendo a tabela com os parâmetros abaixo e conforme o modelo de resposta.\\nTamanho: 30\\nBoca Fechada: SIM\\nRabo Espalmado: SIM\\nPeixe Submerso: SIM\\nO Peixe é maior igual a 20 cm: SIM\",\n",
        "  \"input: \",\n",
        "  genai.upload_file(img2),\n",
        "  \"\\nO tamanho do peixe pode ser analisado observando com atenção para as marcações nas laterais e as linhas verticais da régua que tem as medidas em centímetros enumeradas de 1 em 1 centímetro.\\nA medição do tamanho do Peixe deve estar bem calibrada conforme a marca de 10 em 10  centímetros fixada na lateral da régua de linha vertical em vermelho. Onde o final do rabo do peixe define o tamanho total do peixe conforme a linha vertical.\\nPeixe menor que 20 centímetros não são validos.\\nBoca fechada e rabo espalmado deve ser observado na imagem.\\nO tamanho do peixe tem que ser exato.\",\n",
        "  \"output: Trazer o resultado especifico preenchendo a tabela com os parâmetros abaixo e conforme o modelo de resposta.\\nTamanho: 38\\nBoca Fechada: SIM\\nRabo Espalmado: SIM\\nPeixe Submerso: SIM\\nO Peixe é maior igual a 20 cm: SIM\",\n",
        "  \"input: \",\n",
        "  genai.upload_file(img3),\n",
        "  \"output: \",\n",
        "]\n",
        "\n",
        "response = model.generate_content(prompt_parts)\n",
        "print(response.text)"
      ]
    }
  ]
}